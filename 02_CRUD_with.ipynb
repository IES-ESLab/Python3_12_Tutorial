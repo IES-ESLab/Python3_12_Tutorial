{
 "cells": [
  {
   "cell_type": "markdown",
   "metadata": {},
   "source": [
    "### CRUD (資料操作)\n",
    "\n",
    "#### Part A - 純文字檔 (欄位結構會變動)\n",
    "以 `with` + `for` + `if` + `str` 操作 test.dat 文字檔："
   ]
  },
  {
   "cell_type": "code",
   "execution_count": 6,
   "metadata": {},
   "outputs": [
    {
     "name": "stdout",
     "output_type": "stream",
     "text": [
      "2024 4 1 0 2 20.54\n",
      "FUSS  2 25.69 1.00  0.00 0.00\n",
      "LATB  2 25.74 1.00  0.00 0.00\n",
      "NACB  2 25.76 1.00  0.00 0.00\n",
      "NACB  2  0.00 0.00 28.64 1.00\n",
      "FUSS  2  0.00 0.00 28.67 1.00\n",
      "SM09  2 28.73 1.00  0.00 0.00\n",
      "WUSB  2 30.27 1.00  0.00 0.00\n",
      "B071  2 37.28 1.00  0.00 0.00\n",
      "ECB   2  0.00 0.00 56.77 1.00\n",
      "\n",
      "yyyymmddhhmm sssss\n",
      "2024 4 1 0 2 20.54\n",
      "sta  mm sssss pwei sssss swei\n",
      "FUSS  2 25.69 1.00  0.00 0.00\n"
     ]
    }
   ],
   "source": [
    "# import library\n",
    "from pathlib import Path # a build-in module for managing path \n",
    "\n",
    "test_file = Path('./dataset/test.dat')\n",
    "\n",
    "with open(test_file, 'r') as f:\n",
    "    lines = f.readlines()\n",
    "\n",
    "# print it out\n",
    "for line in lines:\n",
    "    print(line.strip()) # strip -> 移除前後的空白及換行符號\n",
    "\n",
    "# simple explanation\n",
    "for i, line in enumerate(lines):\n",
    "    if i == 0:\n",
    "        print('yyyymmddhhmm sssss')\n",
    "        print(line.strip())\n",
    "    elif i < 2:\n",
    "        print('sta  mm sssss pwei sssss swei')\n",
    "        print(line.strip())"
   ]
  },
  {
   "cell_type": "markdown",
   "metadata": {},
   "source": [
    "***A-1*** 提取事件時間 (for-loop + if + split)"
   ]
  },
  {
   "cell_type": "code",
   "execution_count": 12,
   "metadata": {},
   "outputs": [
    {
     "name": "stdout",
     "output_type": "stream",
     "text": [
      "Event time: 2024-04-01 00:02:20.540000\n"
     ]
    }
   ],
   "source": [
    "from datetime import datetime # module for processing datetime \n",
    "\n",
    "for line in lines:\n",
    "    strip_line = line.strip()\n",
    "    if strip_line.startswith('2024'):\n",
    "        buffers = strip_line.split()\n",
    "        year = int(buffers[0])\n",
    "        month = int(buffers[1])\n",
    "        day = int(buffers[2])\n",
    "        hour = int(buffers[3])\n",
    "        minute = int(buffers[4])\n",
    "        second = int(buffers[5][:2])\n",
    "        microsecond = int(float(buffers[5][2:]) * 1000000)\n",
    "        print(f\"Event time: {datetime(year, month, day, hour, minute, second, microsecond)}\")\n"
   ]
  },
  {
   "cell_type": "markdown",
   "metadata": {},
   "source": [
    "***A-2-1*** 提取與此事件相關的 stations (list 收集)"
   ]
  },
  {
   "cell_type": "code",
   "execution_count": 24,
   "metadata": {},
   "outputs": [
    {
     "name": "stdout",
     "output_type": "stream",
     "text": [
      "['FUSS', 'LATB', 'NACB', 'NACB', 'FUSS', 'SM09', 'WUSB', 'B071', 'ECB']\n"
     ]
    }
   ],
   "source": [
    "stations = [] # 初始化一個list，用來裝被切出來的station\n",
    "for line in lines:\n",
    "    strip_line = line.strip()\n",
    "    if strip_line and strip_line[0].isalpha():\n",
    "        station = strip_line[:4].strip()\n",
    "        stations.append(station)\n",
    "\n",
    "print(stations)"
   ]
  },
  {
   "cell_type": "markdown",
   "metadata": {},
   "source": [
    "***A-2-2*** 提取與此事件相關的 stations (set 收集，裡面不重複)"
   ]
  },
  {
   "cell_type": "code",
   "execution_count": 26,
   "metadata": {},
   "outputs": [
    {
     "name": "stdout",
     "output_type": "stream",
     "text": [
      "{'WUSB', 'ECB', 'SM09', 'FUSS', 'NACB', 'B071', 'LATB'}\n"
     ]
    }
   ],
   "source": [
    "unique_stations = set(stations)\n",
    "print(unique_stations)"
   ]
  },
  {
   "cell_type": "markdown",
   "metadata": {},
   "source": [
    "***A-3*** 分開記錄到 P 與 S 波的測站 (多層 if)"
   ]
  },
  {
   "cell_type": "code",
   "execution_count": 27,
   "metadata": {},
   "outputs": [
    {
     "name": "stdout",
     "output_type": "stream",
     "text": [
      "有記錄到P phase的站: ['FUSS', 'LATB', 'NACB', 'SM09', 'WUSB', 'B071']\n",
      "有記錄到S phase的站: ['NACB', 'FUSS', 'ECB']\n"
     ]
    }
   ],
   "source": [
    "p_stations = []\n",
    "s_stations = []\n",
    "for line in lines:\n",
    "    strip_line = line.strip()\n",
    "    if strip_line and strip_line[0].isalpha():\n",
    "        station = strip_line[:4].strip()\n",
    "        p_weight = strip_line[14:19]\n",
    "        s_weight = strip_line[-4:]\n",
    "        if float(p_weight) == 1.0:\n",
    "            p_stations.append(station)\n",
    "        elif float(s_weight) == 1.0:\n",
    "            s_stations.append(station)\n",
    "\n",
    "print(f\"有記錄到P phase的站: {p_stations}\")\n",
    "print(f\"有記錄到S phase的站: {s_stations}\")"
   ]
  },
  {
   "cell_type": "markdown",
   "metadata": {},
   "source": [
    "***A-4*** 結合日期與分秒補全時間 (變數傳遞)"
   ]
  },
  {
   "cell_type": "code",
   "execution_count": 32,
   "metadata": {},
   "outputs": [
    {
     "name": "stdout",
     "output_type": "stream",
     "text": [
      "Event time: 2024-04-01 00:02:20.540000\n",
      "FUSS's arrival time: 0001-01-01 01:02:25.690000\n",
      "LATB's arrival time: 0001-01-01 01:02:25.740000\n",
      "NACB's arrival time: 0001-01-01 01:02:25.760000\n",
      "NACB's arrival time: 0001-01-01 01:02:28.640000\n",
      "FUSS's arrival time: 0001-01-01 01:02:28.670000\n",
      "SM09's arrival time: 0001-01-01 01:02:28.730000\n",
      "WUSB's arrival time: 0001-01-01 01:02:30.270000\n",
      "B071's arrival time: 0001-01-01 01:02:37.280000\n",
      "ECB's arrival time: 0001-01-01 01:02:56.770000\n"
     ]
    }
   ],
   "source": [
    "from datetime import datetime # module for processing datetime \n",
    "\n",
    "for line in lines:\n",
    "    strip_line = line.strip()\n",
    "\n",
    "    # initialize the varaibles\n",
    "    year = 1\n",
    "    month = 1\n",
    "    day = 1\n",
    "    hour = 1\n",
    "    phase_min = 1\n",
    "    phase_second = 1\n",
    "    phase_microsecond = 1\n",
    "\n",
    "    if strip_line.startswith('2024'):\n",
    "        buffers = strip_line.split()\n",
    "        year = int(buffers[0])\n",
    "        month = int(buffers[1])\n",
    "        day = int(buffers[2])\n",
    "        hour = int(buffers[3])\n",
    "        minute = int(buffers[4])\n",
    "        second = int(buffers[5][:2])\n",
    "        microsecond = int(float(buffers[5][2:]) * 1000000)\n",
    "        print(f\"Event time: {datetime(year, month, day, hour, minute, second, microsecond)}\")\n",
    "    elif strip_line and strip_line[0].isalpha():\n",
    "        wave_buffers = strip_line.split()\n",
    "        station = wave_buffers[0]\n",
    "        p_weight = wave_buffers[3]\n",
    "        s_weight = wave_buffers[-1]\n",
    "        if float(p_weight) == 1.0:\n",
    "            phase_min = int(wave_buffers[1])\n",
    "            phase_second = int(wave_buffers[2][:2])\n",
    "            phase_microsecond = int(float(wave_buffers[2][2:]) * 1000000)\n",
    "        elif float(s_weight) == 1.0:\n",
    "            phase_min = int(wave_buffers[1])\n",
    "            phase_second = int(wave_buffers[4][:2])\n",
    "            phase_microsecond = int(float(wave_buffers[4][2:]) * 1000000)\n",
    "        \n",
    "        print(f\"{station}'s arrival time: {datetime(year, month, day, hour, phase_min, phase_second, phase_microsecond)}\")\n",
    "        "
   ]
  },
  {
   "cell_type": "markdown",
   "metadata": {},
   "source": [
    "***A-5*** 用 dict 記錄事件的分秒與測站資訊"
   ]
  },
  {
   "cell_type": "code",
   "execution_count": 36,
   "metadata": {},
   "outputs": [
    {
     "name": "stdout",
     "output_type": "stream",
     "text": [
      "{'FUSS': datetime.datetime(1, 1, 1, 1, 2, 28, 670000), 'LATB': datetime.datetime(1, 1, 1, 1, 2, 25, 740000), 'NACB': datetime.datetime(1, 1, 1, 1, 2, 28, 640000), 'SM09': datetime.datetime(1, 1, 1, 1, 2, 28, 730000), 'WUSB': datetime.datetime(1, 1, 1, 1, 2, 30, 270000), 'B071': datetime.datetime(1, 1, 1, 1, 2, 37, 280000), 'ECB': datetime.datetime(1, 1, 1, 1, 2, 56, 770000)}\n"
     ]
    }
   ],
   "source": [
    "from datetime import datetime # module for processing datetime \n",
    "\n",
    "information_dict = {}\n",
    "\n",
    "for line in lines:\n",
    "    strip_line = line.strip()\n",
    "\n",
    "    # initialize the varaibles\n",
    "    year = 1\n",
    "    month = 1\n",
    "    day = 1\n",
    "    hour = 1\n",
    "    phase_min = 1\n",
    "    phase_second = 1\n",
    "    phase_microsecond = 1\n",
    "\n",
    "    if strip_line.startswith('2024'):\n",
    "        buffers = strip_line.split()\n",
    "        year = int(buffers[0])\n",
    "        month = int(buffers[1])\n",
    "        day = int(buffers[2])\n",
    "        hour = int(buffers[3])\n",
    "        minute = int(buffers[4])\n",
    "        second = int(buffers[5][:2])\n",
    "        microsecond = int(float(buffers[5][2:]) * 1000000)\n",
    "        \n",
    "    elif strip_line and strip_line[0].isalpha():\n",
    "        wave_buffers = strip_line.split()\n",
    "        station = wave_buffers[0]\n",
    "        p_weight = wave_buffers[3]\n",
    "        s_weight = wave_buffers[-1]\n",
    "        if float(p_weight) == 1.0:\n",
    "            phase_min = int(wave_buffers[1])\n",
    "            phase_second = int(wave_buffers[2][:2])\n",
    "            phase_microsecond = int(float(wave_buffers[2][2:]) * 1000000)\n",
    "        elif float(s_weight) == 1.0:\n",
    "            phase_min = int(wave_buffers[1])\n",
    "            phase_second = int(wave_buffers[4][:2])\n",
    "            phase_microsecond = int(float(wave_buffers[4][2:]) * 1000000)\n",
    "        \n",
    "        information_dict[station] = datetime(year, month, day, hour, phase_min, phase_second, phase_microsecond)\n",
    "\n",
    "print(information_dict)"
   ]
  }
 ],
 "metadata": {
  "kernelspec": {
   "display_name": "AutoQuake_00",
   "language": "python",
   "name": "python3"
  },
  "language_info": {
   "codemirror_mode": {
    "name": "ipython",
    "version": 3
   },
   "file_extension": ".py",
   "mimetype": "text/x-python",
   "name": "python",
   "nbconvert_exporter": "python",
   "pygments_lexer": "ipython3",
   "version": "3.10.13"
  }
 },
 "nbformat": 4,
 "nbformat_minor": 2
}
