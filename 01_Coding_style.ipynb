{
 "cells": [
  {
   "cell_type": "markdown",
   "metadata": {},
   "source": [
    "## Coding Style Guide\n",
    "\n",
    "在Python社群裡，它們有提供一些Python Enhancement Proposals (PEP)    \n",
    "    \n",
    "用來給開發者一些建議。這兩個PEP是我自己加減有在參照的，大方向就是固定寫作風格，然後增加可讀性"
   ]
  },
  {
   "cell_type": "markdown",
   "metadata": {},
   "source": [
    "### PEP8 - Python 的寫作風格指南\n",
    "\n",
    "- PEP8 是 Python 官方推薦的程式碼風格。\n",
    "\n",
    "- 主要目標是讓程式碼更易讀、易維護。\n",
    "\n",
    "- 包含：\n",
    "    - 縮排 (4 空白)\n",
    "    - 命名規則 (小寫 + _)\n",
    "    - 空白行 / 空格\n",
    "    - 行長度 <= 79\n",
    "- 工具：`black`, `ruff`, `flake8` 可以自動檢查或格式化。"
   ]
  },
  {
   "cell_type": "markdown",
   "metadata": {},
   "source": [
    "💥 Not recommended"
   ]
  },
  {
   "cell_type": "code",
   "execution_count": null,
   "metadata": {},
   "outputs": [],
   "source": [
    "def DoSomething(x,y):print(x+y)\n",
    "a=5\n",
    "b=6\n",
    "DoSomething(a,b)"
   ]
  },
  {
   "cell_type": "markdown",
   "metadata": {},
   "source": [
    "💯 recommended"
   ]
  },
  {
   "cell_type": "code",
   "execution_count": null,
   "metadata": {},
   "outputs": [],
   "source": [
    "def do_something(x, y): # 分行\n",
    "    \"\"\"計算並列印 x+y\"\"\" # 加了docstring\n",
    "    print(x + y)\n",
    "\n",
    "a = 5 # 多了空格\n",
    "b = 6\n",
    "do_something(a, b) # 逗號後隔開"
   ]
  },
  {
   "cell_type": "markdown",
   "metadata": {},
   "source": [
    "### PEP484 - 型別註解 (type hints)\n",
    "\n",
    "- PEP484 提供 Python 標準化的型別提示，方便靜態分析 (e.g. pylance)  "
   ]
  },
  {
   "cell_type": "code",
   "execution_count": 1,
   "metadata": {},
   "outputs": [
    {
     "name": "stdout",
     "output_type": "stream",
     "text": [
      "a=42\n",
      "b=逼\n",
      "c=[1, 2, 3]\n",
      "d={'magnitude': 7.1}\n",
      "e=(5, 'quake')\n",
      "f=None\n",
      "g=3.14\n"
     ]
    }
   ],
   "source": [
    "def demo_types(\n",
    "    a: int,\n",
    "    b: str,\n",
    "    c: list[int],\n",
    "    d: dict[str, float],\n",
    "    e: tuple[int, str],\n",
    "    f: str | None,\n",
    "    g: int | float\n",
    ") -> None:\n",
    "    print(f\"a={a}\\nb={b}\\nc={c}\\nd={d}\\ne={e}\\nf={f}\\ng={g}\")\n",
    "\n",
    "# 呼叫測試\n",
    "example_list = [1, 2, 3]\n",
    "example_dict = {\"magnitude\": 7.1}\n",
    "example_tuple = (5, \"quake\")\n",
    "\n",
    "# 我自己習慣這樣\n",
    "demo_types(\n",
    "    a=42,\n",
    "    b=\"逼\",\n",
    "    c=example_list,\n",
    "    d=example_dict,\n",
    "    e=example_tuple,\n",
    "    f=None,\n",
    "    g=3.14\n",
    "    )\n"
   ]
  }
 ],
 "metadata": {
  "kernelspec": {
   "display_name": "AutoQuake_00",
   "language": "python",
   "name": "python3"
  },
  "language_info": {
   "codemirror_mode": {
    "name": "ipython",
    "version": 3
   },
   "file_extension": ".py",
   "mimetype": "text/x-python",
   "name": "python",
   "nbconvert_exporter": "python",
   "pygments_lexer": "ipython3",
   "version": "3.10.13"
  }
 },
 "nbformat": 4,
 "nbformat_minor": 2
}
