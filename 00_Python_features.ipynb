{
 "cells": [
  {
   "cell_type": "markdown",
   "metadata": {},
   "source": [
    "## Python features"
   ]
  },
  {
   "cell_type": "markdown",
   "metadata": {},
   "source": [
    "### 動態語言 (Dynamic Typing)\n",
    "\n",
    "- 宣告變數時**不需要**指定型別，執行時才知道。\n",
    "\n",
    "- 同一個變數**可以**在執行中被指派為不同型別。\n",
    "\n",
    "- 函式(def後面接的那個)可以接受任何型別參數，只要支援該操作就能執行。\n",
    "\n",
    "- 可以在執行時動態新增物件(class後面接的那個)的屬性。\n",
    "\n",
    "- 這使開發靈活快速，但錯誤會在執行時才發現。"
   ]
  },
  {
   "cell_type": "code",
   "execution_count": 1,
   "metadata": {},
   "outputs": [
    {
     "name": "stdout",
     "output_type": "stream",
     "text": [
      "x = 10, 類型 = <class 'int'>\n",
      "x = 字串, 類型 = <class 'str'>\n",
      "x = [1, 2, 3], 類型 = <class 'list'>\n"
     ]
    }
   ],
   "source": [
    "x = 10         # 現在 x 是 int\n",
    "print(f\"x = {x}, 類型 = {type(x)}\")\n",
    "\n",
    "x = \"字串\"    # 現在 x 被重新指定為 str\n",
    "print(f\"x = {x}, 類型 = {type(x)}\")\n",
    "\n",
    "x = [1, 2, 3]   # 現在 x 是 list\n",
    "print(f\"x = {x}, 類型 = {type(x)}\")"
   ]
  },
  {
   "cell_type": "code",
   "execution_count": 8,
   "metadata": {},
   "outputs": [
    {
     "name": "stdout",
     "output_type": "stream",
     "text": [
      "10\n",
      "HiHi\n",
      "[1, 2, 1, 2]\n"
     ]
    }
   ],
   "source": [
    "def show_double(value):\n",
    "    return value * 2\n",
    "\n",
    "print(show_double(5))      # 傳入 int -> 10\n",
    "print(show_double(\"Hi\"))   # 傳入 str -> 'HiHi'\n",
    "print(show_double([1, 2])) # 傳入 list -> [1, 2, 1, 2]"
   ]
  },
  {
   "cell_type": "code",
   "execution_count": 1,
   "metadata": {},
   "outputs": [
    {
     "name": "stdout",
     "output_type": "stream",
     "text": [
      "ML7.0 地震\n",
      "地震深度: 30 km\n"
     ]
    }
   ],
   "source": [
    "class Event:\n",
    "    def __init__(self, name):\n",
    "        self.name = name\n",
    "\n",
    "e = Event(\"ML7.0 地震\")\n",
    "print(e.name)\n",
    "\n",
    "e.depth = 30  # 動態新增屬性，雖然會通過但不好，你的Pylance看到會不舒服\n",
    "print(f\"地震深度: {e.depth} km\")"
   ]
  },
  {
   "cell_type": "markdown",
   "metadata": {},
   "source": [
    "### 強型別 (Strong Type)\n",
    "\n",
    "- 在 Python 中，某些型別可以自動互相轉換。\n",
    "  - 例如 `int + float`，會自動變成 `float`。\n",
    "  - `bool` 也可以當作 `1` (True) 或 `0` (False)。\n",
    "- 但 `str + int` 不會自動轉型，會引發 `TypeError`。\n",
    "- 若需要，可以用 `int(\"100\")` 或 `str(50)` 明確轉型。"
   ]
  },
  {
   "cell_type": "code",
   "execution_count": 4,
   "metadata": {},
   "outputs": [
    {
     "name": "stdout",
     "output_type": "stream",
     "text": [
      "結果: 7.5, 類型: <class 'float'>\n"
     ]
    }
   ],
   "source": [
    "a = 5       # int\n",
    "b = 2.5     # float\n",
    "result = a + b  # int + float -> 自動變成 float\n",
    "print(f\"結果: {result}, 類型: {type(result)}\")"
   ]
  },
  {
   "cell_type": "code",
   "execution_count": 5,
   "metadata": {},
   "outputs": [
    {
     "name": "stdout",
     "output_type": "stream",
     "text": [
      "結果: 11, 類型: <class 'int'>\n"
     ]
    }
   ],
   "source": [
    "flag = True\n",
    "c = 10 + flag  # True 當作 1\n",
    "print(f\"結果: {c}, 類型: {type(c)}\")"
   ]
  },
  {
   "cell_type": "code",
   "execution_count": 6,
   "metadata": {},
   "outputs": [
    {
     "name": "stdout",
     "output_type": "stream",
     "text": [
      "發生錯誤: can only concatenate str (not \"int\") to str\n"
     ]
    }
   ],
   "source": [
    "d = \"100\"\n",
    "e = 50\n",
    "try:\n",
    "    f = d + e  # 字串 + 整數，Python 無法自動轉換\n",
    "except TypeError as err:\n",
    "    print(\"發生錯誤:\", err)"
   ]
  }
 ],
 "metadata": {
  "kernelspec": {
   "display_name": "AutoQuake_00",
   "language": "python",
   "name": "python3"
  },
  "language_info": {
   "codemirror_mode": {
    "name": "ipython",
    "version": 3
   },
   "file_extension": ".py",
   "mimetype": "text/x-python",
   "name": "python",
   "nbconvert_exporter": "python",
   "pygments_lexer": "ipython3",
   "version": "3.10.13"
  }
 },
 "nbformat": 4,
 "nbformat_minor": 2
}
